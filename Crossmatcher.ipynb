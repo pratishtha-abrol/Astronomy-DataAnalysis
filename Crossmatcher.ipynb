{
 "cells": [
  {
   "cell_type": "code",
   "execution_count": 1,
   "metadata": {},
   "outputs": [],
   "source": [
    "import numpy as np"
   ]
  },
  {
   "cell_type": "code",
   "execution_count": 2,
   "metadata": {},
   "outputs": [],
   "source": [
    "def hms2dec(h, m, s):\n",
    "    dec = h + m/60 + s/3600\n",
    "    return dec*15"
   ]
  },
  {
   "cell_type": "code",
   "execution_count": 3,
   "metadata": {},
   "outputs": [],
   "source": [
    "def dms2dec(d, m, s):\n",
    "    sign = d/abs(d)\n",
    "    dec = abs(d) + m/60 + s/3600\n",
    "    return sign*dec"
   ]
  },
  {
   "cell_type": "code",
   "execution_count": 4,
   "metadata": {},
   "outputs": [],
   "source": [
    "def import_bss():\n",
    "    res = []\n",
    "    data = np.loadtxt('bss.dat', usecols = range(1,7))\n",
    "    for i, row in enumerate(data, 1):\n",
    "        res.append((i, hms2dec(row[0], row[1], row[2]), dms2dec(row[3], row[4], row[5])))\n",
    "    return res"
   ]
  },
  {
   "cell_type": "code",
   "execution_count": 9,
   "metadata": {},
   "outputs": [],
   "source": [
    "def import_super():\n",
    "    data = np.loadtxt('super.csv', delimiter = ',', skiprows = 1, usecols = [0,1])\n",
    "    res = []\n",
    "    for i, row in enumerate(data, 1):\n",
    "        res.append((i, row[0], row[1]))\n",
    "    return res"
   ]
  },
  {
   "cell_type": "code",
   "execution_count": 6,
   "metadata": {},
   "outputs": [],
   "source": [
    "def angular_distance(ra1, dec1, ra2, dec2):\n",
    "    r1 = np.radians(ra1)\n",
    "    d1 = np.radians(dec1)\n",
    "    r2 = np.radians(ra2)\n",
    "    d2 = np.radians(dec2)\n",
    "    \n",
    "    a = np.sin(np.abs(d1-d1)/2)**2\n",
    "    b = np.cos(d1)*np.cos(d2)*np.sin(np.abs(r1-r2)/2)**2\n",
    "    \n",
    "    angle = 2*np.arcsin(np.sqrt(a+b))\n",
    "    \n",
    "    return np.degrees(angle)"
   ]
  },
  {
   "cell_type": "code",
   "execution_count": 18,
   "metadata": {},
   "outputs": [],
   "source": [
    "def crossmatch(cat1, cat2, maxdist):\n",
    "    matches = []\n",
    "    no_matches = []\n",
    "    for id1, ra1, dec1 in cat1:\n",
    "        closest_dist = np.inf\n",
    "        closest_id = None\n",
    "        for id2, ra2, dec2 in cat2:\n",
    "            dist = angular_distance(ra1, dec1, ra2, dec2)\n",
    "            if dist < closest_dist:\n",
    "                closest_id = id2\n",
    "                closest_dist = dist\n",
    "        if closest_dist > maxdist :\n",
    "            no_matches.append(id1)\n",
    "        else:\n",
    "            matches.append((id1, closest_id, closest_dist))\n",
    "    return matches, no_matches"
   ]
  },
  {
   "cell_type": "code",
   "execution_count": 10,
   "metadata": {},
   "outputs": [],
   "source": [
    "bss_cat = import_bss()\n",
    "super_cat = import_super()"
   ]
  },
  {
   "cell_type": "code",
   "execution_count": 21,
   "metadata": {},
   "outputs": [
    {
     "data": {
      "text/plain": [
       "[(1, 1.1485416666666666, -47.60530555555556),\n",
       " (2, 2.6496666666666666, -30.463416666666667),\n",
       " (3, 2.7552916666666665, -26.209194444444442)]"
      ]
     },
     "execution_count": 21,
     "metadata": {},
     "output_type": "execute_result"
    }
   ],
   "source": [
    "bss_cat[:3]"
   ]
  },
  {
   "cell_type": "code",
   "execution_count": 24,
   "metadata": {},
   "outputs": [
    {
     "data": {
      "text/plain": [
       "[(1, 0.0603176, -85.6561327),\n",
       " (2, 1.1485082, -47.6054131),\n",
       " (3, 1.2794331, -1.5459014)]"
      ]
     },
     "execution_count": 24,
     "metadata": {},
     "output_type": "execute_result"
    }
   ],
   "source": [
    "super_cat[:3]"
   ]
  },
  {
   "cell_type": "code",
   "execution_count": 35,
   "metadata": {},
   "outputs": [],
   "source": [
    "max_dist = 40/3600\n",
    "matches, no_matches = crossmatch(bss_cat, super_cat, max_dist)"
   ]
  },
  {
   "cell_type": "code",
   "execution_count": 36,
   "metadata": {},
   "outputs": [
    {
     "name": "stdout",
     "output_type": "stream",
     "text": [
      "[(1, 2, 2.2564341476671232e-05), (2, 4, 0.0007199616046088795), (3, 5, 0.00020829704375373634)]\n"
     ]
    }
   ],
   "source": [
    "print(matches[:3])"
   ]
  },
  {
   "cell_type": "code",
   "execution_count": 37,
   "metadata": {},
   "outputs": [
    {
     "name": "stdout",
     "output_type": "stream",
     "text": [
      "[5, 6, 29]\n"
     ]
    }
   ],
   "source": [
    "print(no_matches[:3])"
   ]
  },
  {
   "cell_type": "code",
   "execution_count": 38,
   "metadata": {},
   "outputs": [
    {
     "name": "stdout",
     "output_type": "stream",
     "text": [
      "7\n"
     ]
    }
   ],
   "source": [
    "print(len(no_matches))"
   ]
  },
  {
   "cell_type": "code",
   "execution_count": 39,
   "metadata": {},
   "outputs": [],
   "source": [
    "max_dist = 5/3600\n",
    "matches2, no_matches2 = crossmatch(bss_cat, super_cat, max_dist)"
   ]
  },
  {
   "cell_type": "code",
   "execution_count": 41,
   "metadata": {},
   "outputs": [
    {
     "name": "stdout",
     "output_type": "stream",
     "text": [
      "[(1, 2, 2.2564341476671232e-05), (2, 4, 0.0007199616046088795), (3, 5, 0.00020829704375373634)]\n"
     ]
    }
   ],
   "source": [
    "print(matches2[:3])"
   ]
  },
  {
   "cell_type": "code",
   "execution_count": 42,
   "metadata": {},
   "outputs": [
    {
     "name": "stdout",
     "output_type": "stream",
     "text": [
      "[5, 6, 11]\n"
     ]
    }
   ],
   "source": [
    "print(no_matches2[:3])"
   ]
  },
  {
   "cell_type": "code",
   "execution_count": 43,
   "metadata": {},
   "outputs": [
    {
     "name": "stdout",
     "output_type": "stream",
     "text": [
      "33\n"
     ]
    }
   ],
   "source": [
    "print(len(no_matches2))"
   ]
  },
  {
   "cell_type": "code",
   "execution_count": null,
   "metadata": {},
   "outputs": [],
   "source": []
  }
 ],
 "metadata": {
  "kernelspec": {
   "display_name": "Python 3",
   "language": "python",
   "name": "python3"
  },
  "language_info": {
   "codemirror_mode": {
    "name": "ipython",
    "version": 3
   },
   "file_extension": ".py",
   "mimetype": "text/x-python",
   "name": "python",
   "nbconvert_exporter": "python",
   "pygments_lexer": "ipython3",
   "version": "3.7.6"
  }
 },
 "nbformat": 4,
 "nbformat_minor": 4
}
